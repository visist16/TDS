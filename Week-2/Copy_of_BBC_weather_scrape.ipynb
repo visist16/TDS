{
  "nbformat": 4,
  "nbformat_minor": 0,
  "metadata": {
    "kernelspec": {
      "display_name": "Python 3",
      "language": "python",
      "name": "python3"
    },
    "language_info": {
      "codemirror_mode": {
        "name": "ipython",
        "version": 3
      },
      "file_extension": ".py",
      "mimetype": "text/x-python",
      "name": "python",
      "nbconvert_exporter": "python",
      "pygments_lexer": "ipython3",
      "version": "3.7.4"
    },
    "colab": {
      "provenance": [],
      "include_colab_link": true
    }
  },
  "cells": [
    {
      "cell_type": "markdown",
      "metadata": {
        "id": "view-in-github",
        "colab_type": "text"
      },
      "source": [
        "<a href=\"https://colab.research.google.com/github/visist16/TDS/blob/main/Copy_of_BBC_weather_scrape.ipynb\" target=\"_parent\"><img src=\"https://colab.research.google.com/assets/colab-badge.svg\" alt=\"Open In Colab\"/></a>"
      ]
    },
    {
      "cell_type": "markdown",
      "metadata": {
        "id": "ITd1KoP79Hxl"
      },
      "source": [
        "# A tutorial to scrape the web. \n",
        "\n",
        "This example scrapes the BBC weather website for any specific city, and collects weather forecast for the next 14 days and saves it as a csv file.\n",
        "\n",
        "*Web scraping might not be legal always. It is a good idea to check the terms of the website you plan to scrape before proceeding. Also, if your code requests a url from a server multiple times, it is a good practice to either cache your requests, or insert a timed delay between consecutive requests.*"
      ]
    },
    {
      "cell_type": "code",
      "metadata": {
        "id": "-OF91PT49Hx_"
      },
      "source": [
        "import json                   # to convert API to json format\n",
        "\n",
        "from urllib.parse import urlencode\n",
        "\n",
        "import requests               # to get the webpage\n",
        "from bs4 import BeautifulSoup # to parse the webpage\n",
        "\n",
        "import pandas as pd\n",
        "import re                     # regular expression operators\n",
        "\n",
        "from datetime import datetime"
      ],
      "execution_count": null,
      "outputs": []
    },
    {
      "cell_type": "markdown",
      "metadata": {
        "id": "mPMB75R39Hzp"
      },
      "source": [
        "We now GET the webpage of interest, from the server"
      ]
    },
    {
      "cell_type": "code",
      "metadata": {
        "id": "su3hVa9jBRBO",
        "colab": {
          "base_uri": "https://localhost:8080/",
          "height": 53
        },
        "outputId": "9358d985-51d8-473e-baa1-b4e56c347590"
      },
      "source": [
        "required_city = \"Mumbai\"\n",
        "location_url = 'https://locator-service.api.bbci.co.uk/locations?' + urlencode({\n",
        "   'api_key': 'AGbFAKx58hyjQScCXIYrxuEwJh2W2cmv',\n",
        "   's': required_city,\n",
        "   'stack': 'aws',\n",
        "   'locale': 'en',\n",
        "   'filter': 'international',\n",
        "   'place-types': 'settlement,airport,district',\n",
        "   'order': 'importance',\n",
        "   'a': 'true',\n",
        "   'format': 'json'\n",
        "})\n",
        "location_url"
      ],
      "execution_count": null,
      "outputs": [
        {
          "output_type": "execute_result",
          "data": {
            "text/plain": [
              "'https://locator-service.api.bbci.co.uk/locations?api_key=AGbFAKx58hyjQScCXIYrxuEwJh2W2cmv&s=Mumbai&stack=aws&locale=en&filter=international&place-types=settlement%2Cairport%2Cdistrict&order=importance&a=true&format=json'"
            ],
            "application/vnd.google.colaboratory.intrinsic+json": {
              "type": "string"
            }
          },
          "metadata": {},
          "execution_count": 2
        }
      ]
    },
    {
      "cell_type": "code",
      "metadata": {
        "id": "Ks0vHJ_nBXSz",
        "colab": {
          "base_uri": "https://localhost:8080/"
        },
        "outputId": "3496fecc-6c8b-4da5-8032-4b1b8de4e92b"
      },
      "source": [
        "result = requests.get(location_url).json()\n",
        "result"
      ],
      "execution_count": null,
      "outputs": [
        {
          "output_type": "execute_result",
          "data": {
            "text/plain": [
              "{'response': {'results': {'results': [{'id': '1275339',\n",
              "     'name': 'Mumbai',\n",
              "     'container': 'India',\n",
              "     'containerId': 1269750,\n",
              "     'language': 'en',\n",
              "     'timezone': 'Asia/Kolkata',\n",
              "     'country': 'IN',\n",
              "     'latitude': 19.07283,\n",
              "     'longitude': 72.88261,\n",
              "     'placeType': 'settlement'}],\n",
              "   'totalResults': 1}}}"
            ]
          },
          "metadata": {},
          "execution_count": 3
        }
      ]
    },
    {
      "cell_type": "code",
      "metadata": {
        "id": "uPeJOmob9H0P"
      },
      "source": [
        "# url      = 'https://www.bbc.com/weather/1275339' # url to BBC weather, corresponding to a specific city (Mumbai, in this example)\n",
        "url      = 'https://www.bbc.com/weather/'+result['response']['results']['results'][0]['id']\n",
        "response = requests.get(url)"
      ],
      "execution_count": null,
      "outputs": []
    },
    {
      "cell_type": "markdown",
      "metadata": {
        "id": "gAOhobDN9H0W"
      },
      "source": [
        "Next, we initiate an instance of  BeautifulSoup."
      ]
    },
    {
      "cell_type": "code",
      "metadata": {
        "id": "8Wn5Bc_49H1A"
      },
      "source": [
        "soup = BeautifulSoup(response.content,'html.parser') "
      ],
      "execution_count": null,
      "outputs": []
    },
    {
      "cell_type": "markdown",
      "metadata": {
        "id": "KC1TxUzG9H2G"
      },
      "source": [
        "The information we want (daily high and low temp., and daily weather summary), are in specific blocks on the webpage. \n",
        "We need to find the block type, type of identifier, and the identifier name (all these can be figured out by right clicking\n",
        "on the webpage and selecting 'Inspect' on the Chrome browser; similar modus operandi for other browsers)"
      ]
    },
    {
      "cell_type": "code",
      "metadata": {
        "id": "wkm9oya79H2p",
        "colab": {
          "base_uri": "https://localhost:8080/"
        },
        "outputId": "f0f7b12a-eef9-4623-91d8-ac2722ad3db0"
      },
      "source": [
        "daily_high_values = soup.find_all('span', attrs={'class': 'wr-day-temperature__high-value'}) # block-type: span; identifier type: class; and class name: wr-day-temperature__high-value \n",
        "daily_high_values"
      ],
      "execution_count": null,
      "outputs": [
        {
          "output_type": "execute_result",
          "data": {
            "text/plain": [
              "[<span class=\"wr-day-temperature__high-value\"><span class=\"wr-value--temperature \"><span class=\"wr-value--temperature--c\">33°</span><span class=\"wr-hide\"> </span><span class=\"wr-value--temperature--f\">92°</span></span></span>,\n",
              " <span class=\"wr-day-temperature__high-value\"><span class=\"wr-value--temperature \"><span class=\"wr-value--temperature--c\">34°</span><span class=\"wr-hide\"> </span><span class=\"wr-value--temperature--f\">93°</span></span></span>,\n",
              " <span class=\"wr-day-temperature__high-value\"><span class=\"wr-value--temperature \"><span class=\"wr-value--temperature--c\">34°</span><span class=\"wr-hide\"> </span><span class=\"wr-value--temperature--f\">93°</span></span></span>,\n",
              " <span class=\"wr-day-temperature__high-value\"><span class=\"wr-value--temperature \"><span class=\"wr-value--temperature--c\">34°</span><span class=\"wr-hide\"> </span><span class=\"wr-value--temperature--f\">94°</span></span></span>,\n",
              " <span class=\"wr-day-temperature__high-value\"><span class=\"wr-value--temperature \"><span class=\"wr-value--temperature--c\">34°</span><span class=\"wr-hide\"> </span><span class=\"wr-value--temperature--f\">94°</span></span></span>,\n",
              " <span class=\"wr-day-temperature__high-value\"><span class=\"wr-value--temperature \"><span class=\"wr-value--temperature--c\">34°</span><span class=\"wr-hide\"> </span><span class=\"wr-value--temperature--f\">93°</span></span></span>,\n",
              " <span class=\"wr-day-temperature__high-value\"><span class=\"wr-value--temperature \"><span class=\"wr-value--temperature--c\">33°</span><span class=\"wr-hide\"> </span><span class=\"wr-value--temperature--f\">92°</span></span></span>,\n",
              " <span class=\"wr-day-temperature__high-value\"><span class=\"wr-value--temperature \"><span class=\"wr-value--temperature--c\">33°</span><span class=\"wr-hide\"> </span><span class=\"wr-value--temperature--f\">92°</span></span></span>,\n",
              " <span class=\"wr-day-temperature__high-value\"><span class=\"wr-value--temperature \"><span class=\"wr-value--temperature--c\">34°</span><span class=\"wr-hide\"> </span><span class=\"wr-value--temperature--f\">93°</span></span></span>,\n",
              " <span class=\"wr-day-temperature__high-value\"><span class=\"wr-value--temperature \"><span class=\"wr-value--temperature--c\">34°</span><span class=\"wr-hide\"> </span><span class=\"wr-value--temperature--f\">93°</span></span></span>,\n",
              " <span class=\"wr-day-temperature__high-value\"><span class=\"wr-value--temperature \"><span class=\"wr-value--temperature--c\">33°</span><span class=\"wr-hide\"> </span><span class=\"wr-value--temperature--f\">92°</span></span></span>,\n",
              " <span class=\"wr-day-temperature__high-value\"><span class=\"wr-value--temperature \"><span class=\"wr-value--temperature--c\">33°</span><span class=\"wr-hide\"> </span><span class=\"wr-value--temperature--f\">92°</span></span></span>,\n",
              " <span class=\"wr-day-temperature__high-value\"><span class=\"wr-value--temperature \"><span class=\"wr-value--temperature--c\">33°</span><span class=\"wr-hide\"> </span><span class=\"wr-value--temperature--f\">92°</span></span></span>]"
            ]
          },
          "metadata": {},
          "execution_count": 6
        }
      ]
    },
    {
      "cell_type": "code",
      "metadata": {
        "id": "FbTO53Oz9H3z",
        "colab": {
          "base_uri": "https://localhost:8080/"
        },
        "outputId": "675701d5-aa0a-46b3-9a6f-a521466fc73a"
      },
      "source": [
        "daily_low_values  = soup.find_all('span', attrs={'class': 'wr-day-temperature__low-value'})\n",
        "daily_low_values"
      ],
      "execution_count": null,
      "outputs": [
        {
          "output_type": "execute_result",
          "data": {
            "text/plain": [
              "[<span class=\"wr-day-temperature__low-value\"><span class=\"wr-value--temperature \"><span class=\"wr-value--temperature--c\">22°</span><span class=\"wr-hide\"> </span><span class=\"wr-value--temperature--f\">71°</span></span></span>,\n",
              " <span class=\"wr-day-temperature__low-value\"><span class=\"wr-value--temperature \"><span class=\"wr-value--temperature--c\">22°</span><span class=\"wr-hide\"> </span><span class=\"wr-value--temperature--f\">71°</span></span></span>,\n",
              " <span class=\"wr-day-temperature__low-value\"><span class=\"wr-value--temperature \"><span class=\"wr-value--temperature--c\">22°</span><span class=\"wr-hide\"> </span><span class=\"wr-value--temperature--f\">72°</span></span></span>,\n",
              " <span class=\"wr-day-temperature__low-value\"><span class=\"wr-value--temperature \"><span class=\"wr-value--temperature--c\">22°</span><span class=\"wr-hide\"> </span><span class=\"wr-value--temperature--f\">71°</span></span></span>,\n",
              " <span class=\"wr-day-temperature__low-value\"><span class=\"wr-value--temperature \"><span class=\"wr-value--temperature--c\">22°</span><span class=\"wr-hide\"> </span><span class=\"wr-value--temperature--f\">72°</span></span></span>,\n",
              " <span class=\"wr-day-temperature__low-value\"><span class=\"wr-value--temperature \"><span class=\"wr-value--temperature--c\">23°</span><span class=\"wr-hide\"> </span><span class=\"wr-value--temperature--f\">73°</span></span></span>,\n",
              " <span class=\"wr-day-temperature__low-value\"><span class=\"wr-value--temperature \"><span class=\"wr-value--temperature--c\">23°</span><span class=\"wr-hide\"> </span><span class=\"wr-value--temperature--f\">73°</span></span></span>,\n",
              " <span class=\"wr-day-temperature__low-value\"><span class=\"wr-value--temperature \"><span class=\"wr-value--temperature--c\">23°</span><span class=\"wr-hide\"> </span><span class=\"wr-value--temperature--f\">74°</span></span></span>,\n",
              " <span class=\"wr-day-temperature__low-value\"><span class=\"wr-value--temperature \"><span class=\"wr-value--temperature--c\">24°</span><span class=\"wr-hide\"> </span><span class=\"wr-value--temperature--f\">74°</span></span></span>,\n",
              " <span class=\"wr-day-temperature__low-value\"><span class=\"wr-value--temperature \"><span class=\"wr-value--temperature--c\">24°</span><span class=\"wr-hide\"> </span><span class=\"wr-value--temperature--f\">75°</span></span></span>,\n",
              " <span class=\"wr-day-temperature__low-value\"><span class=\"wr-value--temperature \"><span class=\"wr-value--temperature--c\">23°</span><span class=\"wr-hide\"> </span><span class=\"wr-value--temperature--f\">74°</span></span></span>,\n",
              " <span class=\"wr-day-temperature__low-value\"><span class=\"wr-value--temperature \"><span class=\"wr-value--temperature--c\">23°</span><span class=\"wr-hide\"> </span><span class=\"wr-value--temperature--f\">73°</span></span></span>,\n",
              " <span class=\"wr-day-temperature__low-value\"><span class=\"wr-value--temperature \"><span class=\"wr-value--temperature--c\">23°</span><span class=\"wr-hide\"> </span><span class=\"wr-value--temperature--f\">73°</span></span></span>,\n",
              " <span class=\"wr-day-temperature__low-value\"><span class=\"wr-value--temperature \"><span class=\"wr-value--temperature--c\">23°</span><span class=\"wr-hide\"> </span><span class=\"wr-value--temperature--f\">72°</span></span></span>]"
            ]
          },
          "metadata": {},
          "execution_count": 7
        }
      ]
    },
    {
      "cell_type": "markdown",
      "metadata": {
        "id": "vICLyU1gCCOI"
      },
      "source": []
    },
    {
      "cell_type": "code",
      "metadata": {
        "id": "UfxUo44x9H39",
        "colab": {
          "base_uri": "https://localhost:8080/"
        },
        "outputId": "840120d2-53d1-43cf-fd19-2135f43cff21"
      },
      "source": [
        "daily_summary = soup.find('div', attrs={'class': 'wr-day-summary'})\n",
        "daily_summary"
      ],
      "execution_count": null,
      "outputs": [
        {
          "output_type": "execute_result",
          "data": {
            "text/plain": [
              "<div class=\"wr-day-summary\"><div class=\"gel-wrap\"><span class=\"\">A clear sky and light winds</span><span class=\"wr-hide\">Sunny intervals and a gentle breeze</span><span class=\"wr-hide\">Sunny and a gentle breeze</span><span class=\"wr-hide\">Sunny and a gentle breeze</span><span class=\"wr-hide\">Sunny and a gentle breeze</span><span class=\"wr-hide\">Sunny intervals and a gentle breeze</span><span class=\"wr-hide\">Sunny intervals and a gentle breeze</span><span class=\"wr-hide\">Sunny intervals and a gentle breeze</span><span class=\"wr-hide\">Sunny intervals and a gentle breeze</span><span class=\"wr-hide\">Sunny intervals and a gentle breeze</span><span class=\"wr-hide\">Sunny intervals and a gentle breeze</span><span class=\"wr-hide\">Sunny intervals and a gentle breeze</span><span class=\"wr-hide\">Sunny intervals and a gentle breeze</span><span class=\"wr-hide\">Sunny intervals and a gentle breeze</span></div></div>"
            ]
          },
          "metadata": {},
          "execution_count": 8
        }
      ]
    },
    {
      "cell_type": "code",
      "metadata": {
        "id": "JwcyXbeXBteI",
        "colab": {
          "base_uri": "https://localhost:8080/",
          "height": 89
        },
        "outputId": "3f73898e-14f0-4021-873a-2825ab046910"
      },
      "source": [
        "daily_summary.text"
      ],
      "execution_count": null,
      "outputs": [
        {
          "output_type": "execute_result",
          "data": {
            "text/plain": [
              "'A clear sky and light windsSunny intervals and a gentle breezeSunny and a gentle breezeSunny and a gentle breezeSunny and a gentle breezeSunny intervals and a gentle breezeSunny intervals and a gentle breezeSunny intervals and a gentle breezeSunny intervals and a gentle breezeSunny intervals and a gentle breezeSunny intervals and a gentle breezeSunny intervals and a gentle breezeSunny intervals and a gentle breezeSunny intervals and a gentle breeze'"
            ],
            "application/vnd.google.colaboratory.intrinsic+json": {
              "type": "string"
            }
          },
          "metadata": {},
          "execution_count": 9
        }
      ]
    },
    {
      "cell_type": "markdown",
      "metadata": {
        "id": "FzJy2U7M9H4h"
      },
      "source": [
        "General book keeping.\n",
        "\n",
        "With the code snippet in the cell above, we get forecast data for 14 days, including today. We will now post process the data to first extract the required information/text and discard all the html wrapper code, then combine all variables into one common list, and finally convert it into a pandas data frame."
      ]
    },
    {
      "cell_type": "code",
      "metadata": {
        "id": "wYXfNscP9H4p",
        "colab": {
          "base_uri": "https://localhost:8080/",
          "height": 35
        },
        "outputId": "900825f3-719b-420c-b9db-24d3706e8a36"
      },
      "source": [
        "daily_high_values[0].text.strip()"
      ],
      "execution_count": null,
      "outputs": [
        {
          "output_type": "execute_result",
          "data": {
            "text/plain": [
              "'33° 92°'"
            ],
            "application/vnd.google.colaboratory.intrinsic+json": {
              "type": "string"
            }
          },
          "metadata": {},
          "execution_count": 10
        }
      ]
    },
    {
      "cell_type": "code",
      "metadata": {
        "id": "Jy0EG4o09H4v",
        "colab": {
          "base_uri": "https://localhost:8080/",
          "height": 35
        },
        "outputId": "133aa50f-5d2b-43d1-c241-c09fd517366c"
      },
      "source": [
        "daily_high_values[5].text.strip()"
      ],
      "execution_count": null,
      "outputs": [
        {
          "output_type": "execute_result",
          "data": {
            "text/plain": [
              "'34° 93°'"
            ],
            "application/vnd.google.colaboratory.intrinsic+json": {
              "type": "string"
            }
          },
          "metadata": {},
          "execution_count": 11
        }
      ]
    },
    {
      "cell_type": "code",
      "metadata": {
        "id": "EpYaNjJn9H4v",
        "colab": {
          "base_uri": "https://localhost:8080/",
          "height": 35
        },
        "outputId": "93d206ca-6b1e-4b72-e71b-a28c2763d4f8"
      },
      "source": [
        "daily_high_values[0].text.strip().split()[0]"
      ],
      "execution_count": null,
      "outputs": [
        {
          "output_type": "execute_result",
          "data": {
            "text/plain": [
              "'33°'"
            ],
            "application/vnd.google.colaboratory.intrinsic+json": {
              "type": "string"
            }
          },
          "metadata": {},
          "execution_count": 12
        }
      ]
    },
    {
      "cell_type": "code",
      "metadata": {
        "id": "uvBbV5AT9H40",
        "colab": {
          "base_uri": "https://localhost:8080/"
        },
        "outputId": "6879e675-1a21-4788-899b-21ec373b040f"
      },
      "source": [
        "daily_high_values_list = [daily_high_values[i].text.strip().split()[0] for i in range(len(daily_high_values))]\n",
        "daily_high_values_list"
      ],
      "execution_count": null,
      "outputs": [
        {
          "output_type": "execute_result",
          "data": {
            "text/plain": [
              "['33°',\n",
              " '34°',\n",
              " '34°',\n",
              " '34°',\n",
              " '34°',\n",
              " '34°',\n",
              " '33°',\n",
              " '33°',\n",
              " '34°',\n",
              " '34°',\n",
              " '33°',\n",
              " '33°',\n",
              " '33°']"
            ]
          },
          "metadata": {},
          "execution_count": 13
        }
      ]
    },
    {
      "cell_type": "code",
      "metadata": {
        "id": "cOafAXHZ9H45",
        "colab": {
          "base_uri": "https://localhost:8080/"
        },
        "outputId": "102d0276-6b07-4922-ca21-87d7ed585cf1"
      },
      "source": [
        "daily_low_values_list = [daily_low_values[i].text.strip().split()[0] for i in range(len(daily_low_values))]\n",
        "daily_low_values_list"
      ],
      "execution_count": null,
      "outputs": [
        {
          "output_type": "execute_result",
          "data": {
            "text/plain": [
              "['22°',\n",
              " '22°',\n",
              " '22°',\n",
              " '22°',\n",
              " '22°',\n",
              " '23°',\n",
              " '23°',\n",
              " '23°',\n",
              " '24°',\n",
              " '24°',\n",
              " '23°',\n",
              " '23°',\n",
              " '23°',\n",
              " '23°']"
            ]
          },
          "metadata": {},
          "execution_count": 14
        }
      ]
    },
    {
      "cell_type": "code",
      "metadata": {
        "id": "r_2FDTPX9H5Z",
        "colab": {
          "base_uri": "https://localhost:8080/",
          "height": 89
        },
        "outputId": "068496cb-6f73-472f-e200-cc8503cffd0e"
      },
      "source": [
        "daily_summary.text"
      ],
      "execution_count": null,
      "outputs": [
        {
          "output_type": "execute_result",
          "data": {
            "text/plain": [
              "'A clear sky and light windsSunny intervals and a gentle breezeSunny and a gentle breezeSunny and a gentle breezeSunny and a gentle breezeSunny intervals and a gentle breezeSunny intervals and a gentle breezeSunny intervals and a gentle breezeSunny intervals and a gentle breezeSunny intervals and a gentle breezeSunny intervals and a gentle breezeSunny intervals and a gentle breezeSunny intervals and a gentle breezeSunny intervals and a gentle breeze'"
            ],
            "application/vnd.google.colaboratory.intrinsic+json": {
              "type": "string"
            }
          },
          "metadata": {},
          "execution_count": 15
        }
      ]
    },
    {
      "cell_type": "code",
      "metadata": {
        "id": "NAFzsNuB9H5j",
        "colab": {
          "base_uri": "https://localhost:8080/"
        },
        "outputId": "6d3c97b7-28f6-4955-ffd9-5e927bda7a86"
      },
      "source": [
        "daily_summary_list = re.findall('[a-zA-Z][^A-Z]*', daily_summary.text) #split the string on uppercase\n",
        "daily_summary_list"
      ],
      "execution_count": null,
      "outputs": [
        {
          "output_type": "execute_result",
          "data": {
            "text/plain": [
              "['A clear sky and light winds',\n",
              " 'Sunny intervals and a gentle breeze',\n",
              " 'Sunny and a gentle breeze',\n",
              " 'Sunny and a gentle breeze',\n",
              " 'Sunny and a gentle breeze',\n",
              " 'Sunny intervals and a gentle breeze',\n",
              " 'Sunny intervals and a gentle breeze',\n",
              " 'Sunny intervals and a gentle breeze',\n",
              " 'Sunny intervals and a gentle breeze',\n",
              " 'Sunny intervals and a gentle breeze',\n",
              " 'Sunny intervals and a gentle breeze',\n",
              " 'Sunny intervals and a gentle breeze',\n",
              " 'Sunny intervals and a gentle breeze',\n",
              " 'Sunny intervals and a gentle breeze']"
            ]
          },
          "metadata": {},
          "execution_count": 16
        }
      ]
    },
    {
      "cell_type": "code",
      "metadata": {
        "id": "WAcgJCLp9H5p",
        "colab": {
          "base_uri": "https://localhost:8080/"
        },
        "outputId": "c9703f84-1b39-43fc-f947-830ad17b0353"
      },
      "source": [
        "datelist = pd.date_range(datetime.today(), periods=len(daily_high_values)).tolist()\n",
        "datelist"
      ],
      "execution_count": null,
      "outputs": [
        {
          "output_type": "execute_result",
          "data": {
            "text/plain": [
              "[Timestamp('2022-11-01 16:46:53.482769', freq='D'),\n",
              " Timestamp('2022-11-02 16:46:53.482769', freq='D'),\n",
              " Timestamp('2022-11-03 16:46:53.482769', freq='D'),\n",
              " Timestamp('2022-11-04 16:46:53.482769', freq='D'),\n",
              " Timestamp('2022-11-05 16:46:53.482769', freq='D'),\n",
              " Timestamp('2022-11-06 16:46:53.482769', freq='D'),\n",
              " Timestamp('2022-11-07 16:46:53.482769', freq='D'),\n",
              " Timestamp('2022-11-08 16:46:53.482769', freq='D'),\n",
              " Timestamp('2022-11-09 16:46:53.482769', freq='D'),\n",
              " Timestamp('2022-11-10 16:46:53.482769', freq='D'),\n",
              " Timestamp('2022-11-11 16:46:53.482769', freq='D'),\n",
              " Timestamp('2022-11-12 16:46:53.482769', freq='D'),\n",
              " Timestamp('2022-11-13 16:46:53.482769', freq='D')]"
            ]
          },
          "metadata": {},
          "execution_count": 17
        }
      ]
    },
    {
      "cell_type": "code",
      "metadata": {
        "id": "txU3R5wX9H5v",
        "colab": {
          "base_uri": "https://localhost:8080/"
        },
        "outputId": "e501213d-0e5f-4f79-da34-923370f835c1"
      },
      "source": [
        "datelist = [datelist[i].date().strftime('%y-%m-%d') for i in range(len(datelist))]\n",
        "datelist"
      ],
      "execution_count": null,
      "outputs": [
        {
          "output_type": "execute_result",
          "data": {
            "text/plain": [
              "['22-11-01',\n",
              " '22-11-02',\n",
              " '22-11-03',\n",
              " '22-11-04',\n",
              " '22-11-05',\n",
              " '22-11-06',\n",
              " '22-11-07',\n",
              " '22-11-08',\n",
              " '22-11-09',\n",
              " '22-11-10',\n",
              " '22-11-11',\n",
              " '22-11-12',\n",
              " '22-11-13']"
            ]
          },
          "metadata": {},
          "execution_count": 18
        }
      ]
    },
    {
      "cell_type": "code",
      "metadata": {
        "id": "VSwi6b5v9H5v"
      },
      "source": [
        "zipped = zip(datelist, daily_high_values_list, daily_low_values_list, daily_summary_list)"
      ],
      "execution_count": null,
      "outputs": []
    },
    {
      "cell_type": "code",
      "metadata": {
        "id": "K5_Devru9H5v"
      },
      "source": [
        "df = pd.DataFrame(list(zipped), columns=['Date', 'High','Low', 'Summary'])"
      ],
      "execution_count": null,
      "outputs": []
    },
    {
      "cell_type": "code",
      "metadata": {
        "id": "VwaAs_HO9H5x",
        "colab": {
          "base_uri": "https://localhost:8080/",
          "height": 457
        },
        "outputId": "22d457a2-10b9-4bd1-8d92-017a50cd0047"
      },
      "source": [
        "display(df)"
      ],
      "execution_count": null,
      "outputs": [
        {
          "output_type": "display_data",
          "data": {
            "text/plain": [
              "        Date High  Low                              Summary\n",
              "0   22-11-01  33°  22°          A clear sky and light winds\n",
              "1   22-11-02  34°  22°  Sunny intervals and a gentle breeze\n",
              "2   22-11-03  34°  22°            Sunny and a gentle breeze\n",
              "3   22-11-04  34°  22°            Sunny and a gentle breeze\n",
              "4   22-11-05  34°  22°            Sunny and a gentle breeze\n",
              "5   22-11-06  34°  23°  Sunny intervals and a gentle breeze\n",
              "6   22-11-07  33°  23°  Sunny intervals and a gentle breeze\n",
              "7   22-11-08  33°  23°  Sunny intervals and a gentle breeze\n",
              "8   22-11-09  34°  24°  Sunny intervals and a gentle breeze\n",
              "9   22-11-10  34°  24°  Sunny intervals and a gentle breeze\n",
              "10  22-11-11  33°  23°  Sunny intervals and a gentle breeze\n",
              "11  22-11-12  33°  23°  Sunny intervals and a gentle breeze\n",
              "12  22-11-13  33°  23°  Sunny intervals and a gentle breeze"
            ],
            "text/html": [
              "\n",
              "  <div id=\"df-7c63fc3e-78d2-47e1-9383-5ef64369e585\">\n",
              "    <div class=\"colab-df-container\">\n",
              "      <div>\n",
              "<style scoped>\n",
              "    .dataframe tbody tr th:only-of-type {\n",
              "        vertical-align: middle;\n",
              "    }\n",
              "\n",
              "    .dataframe tbody tr th {\n",
              "        vertical-align: top;\n",
              "    }\n",
              "\n",
              "    .dataframe thead th {\n",
              "        text-align: right;\n",
              "    }\n",
              "</style>\n",
              "<table border=\"1\" class=\"dataframe\">\n",
              "  <thead>\n",
              "    <tr style=\"text-align: right;\">\n",
              "      <th></th>\n",
              "      <th>Date</th>\n",
              "      <th>High</th>\n",
              "      <th>Low</th>\n",
              "      <th>Summary</th>\n",
              "    </tr>\n",
              "  </thead>\n",
              "  <tbody>\n",
              "    <tr>\n",
              "      <th>0</th>\n",
              "      <td>22-11-01</td>\n",
              "      <td>33°</td>\n",
              "      <td>22°</td>\n",
              "      <td>A clear sky and light winds</td>\n",
              "    </tr>\n",
              "    <tr>\n",
              "      <th>1</th>\n",
              "      <td>22-11-02</td>\n",
              "      <td>34°</td>\n",
              "      <td>22°</td>\n",
              "      <td>Sunny intervals and a gentle breeze</td>\n",
              "    </tr>\n",
              "    <tr>\n",
              "      <th>2</th>\n",
              "      <td>22-11-03</td>\n",
              "      <td>34°</td>\n",
              "      <td>22°</td>\n",
              "      <td>Sunny and a gentle breeze</td>\n",
              "    </tr>\n",
              "    <tr>\n",
              "      <th>3</th>\n",
              "      <td>22-11-04</td>\n",
              "      <td>34°</td>\n",
              "      <td>22°</td>\n",
              "      <td>Sunny and a gentle breeze</td>\n",
              "    </tr>\n",
              "    <tr>\n",
              "      <th>4</th>\n",
              "      <td>22-11-05</td>\n",
              "      <td>34°</td>\n",
              "      <td>22°</td>\n",
              "      <td>Sunny and a gentle breeze</td>\n",
              "    </tr>\n",
              "    <tr>\n",
              "      <th>5</th>\n",
              "      <td>22-11-06</td>\n",
              "      <td>34°</td>\n",
              "      <td>23°</td>\n",
              "      <td>Sunny intervals and a gentle breeze</td>\n",
              "    </tr>\n",
              "    <tr>\n",
              "      <th>6</th>\n",
              "      <td>22-11-07</td>\n",
              "      <td>33°</td>\n",
              "      <td>23°</td>\n",
              "      <td>Sunny intervals and a gentle breeze</td>\n",
              "    </tr>\n",
              "    <tr>\n",
              "      <th>7</th>\n",
              "      <td>22-11-08</td>\n",
              "      <td>33°</td>\n",
              "      <td>23°</td>\n",
              "      <td>Sunny intervals and a gentle breeze</td>\n",
              "    </tr>\n",
              "    <tr>\n",
              "      <th>8</th>\n",
              "      <td>22-11-09</td>\n",
              "      <td>34°</td>\n",
              "      <td>24°</td>\n",
              "      <td>Sunny intervals and a gentle breeze</td>\n",
              "    </tr>\n",
              "    <tr>\n",
              "      <th>9</th>\n",
              "      <td>22-11-10</td>\n",
              "      <td>34°</td>\n",
              "      <td>24°</td>\n",
              "      <td>Sunny intervals and a gentle breeze</td>\n",
              "    </tr>\n",
              "    <tr>\n",
              "      <th>10</th>\n",
              "      <td>22-11-11</td>\n",
              "      <td>33°</td>\n",
              "      <td>23°</td>\n",
              "      <td>Sunny intervals and a gentle breeze</td>\n",
              "    </tr>\n",
              "    <tr>\n",
              "      <th>11</th>\n",
              "      <td>22-11-12</td>\n",
              "      <td>33°</td>\n",
              "      <td>23°</td>\n",
              "      <td>Sunny intervals and a gentle breeze</td>\n",
              "    </tr>\n",
              "    <tr>\n",
              "      <th>12</th>\n",
              "      <td>22-11-13</td>\n",
              "      <td>33°</td>\n",
              "      <td>23°</td>\n",
              "      <td>Sunny intervals and a gentle breeze</td>\n",
              "    </tr>\n",
              "  </tbody>\n",
              "</table>\n",
              "</div>\n",
              "      <button class=\"colab-df-convert\" onclick=\"convertToInteractive('df-7c63fc3e-78d2-47e1-9383-5ef64369e585')\"\n",
              "              title=\"Convert this dataframe to an interactive table.\"\n",
              "              style=\"display:none;\">\n",
              "        \n",
              "  <svg xmlns=\"http://www.w3.org/2000/svg\" height=\"24px\"viewBox=\"0 0 24 24\"\n",
              "       width=\"24px\">\n",
              "    <path d=\"M0 0h24v24H0V0z\" fill=\"none\"/>\n",
              "    <path d=\"M18.56 5.44l.94 2.06.94-2.06 2.06-.94-2.06-.94-.94-2.06-.94 2.06-2.06.94zm-11 1L8.5 8.5l.94-2.06 2.06-.94-2.06-.94L8.5 2.5l-.94 2.06-2.06.94zm10 10l.94 2.06.94-2.06 2.06-.94-2.06-.94-.94-2.06-.94 2.06-2.06.94z\"/><path d=\"M17.41 7.96l-1.37-1.37c-.4-.4-.92-.59-1.43-.59-.52 0-1.04.2-1.43.59L10.3 9.45l-7.72 7.72c-.78.78-.78 2.05 0 2.83L4 21.41c.39.39.9.59 1.41.59.51 0 1.02-.2 1.41-.59l7.78-7.78 2.81-2.81c.8-.78.8-2.07 0-2.86zM5.41 20L4 18.59l7.72-7.72 1.47 1.35L5.41 20z\"/>\n",
              "  </svg>\n",
              "      </button>\n",
              "      \n",
              "  <style>\n",
              "    .colab-df-container {\n",
              "      display:flex;\n",
              "      flex-wrap:wrap;\n",
              "      gap: 12px;\n",
              "    }\n",
              "\n",
              "    .colab-df-convert {\n",
              "      background-color: #E8F0FE;\n",
              "      border: none;\n",
              "      border-radius: 50%;\n",
              "      cursor: pointer;\n",
              "      display: none;\n",
              "      fill: #1967D2;\n",
              "      height: 32px;\n",
              "      padding: 0 0 0 0;\n",
              "      width: 32px;\n",
              "    }\n",
              "\n",
              "    .colab-df-convert:hover {\n",
              "      background-color: #E2EBFA;\n",
              "      box-shadow: 0px 1px 2px rgba(60, 64, 67, 0.3), 0px 1px 3px 1px rgba(60, 64, 67, 0.15);\n",
              "      fill: #174EA6;\n",
              "    }\n",
              "\n",
              "    [theme=dark] .colab-df-convert {\n",
              "      background-color: #3B4455;\n",
              "      fill: #D2E3FC;\n",
              "    }\n",
              "\n",
              "    [theme=dark] .colab-df-convert:hover {\n",
              "      background-color: #434B5C;\n",
              "      box-shadow: 0px 1px 3px 1px rgba(0, 0, 0, 0.15);\n",
              "      filter: drop-shadow(0px 1px 2px rgba(0, 0, 0, 0.3));\n",
              "      fill: #FFFFFF;\n",
              "    }\n",
              "  </style>\n",
              "\n",
              "      <script>\n",
              "        const buttonEl =\n",
              "          document.querySelector('#df-7c63fc3e-78d2-47e1-9383-5ef64369e585 button.colab-df-convert');\n",
              "        buttonEl.style.display =\n",
              "          google.colab.kernel.accessAllowed ? 'block' : 'none';\n",
              "\n",
              "        async function convertToInteractive(key) {\n",
              "          const element = document.querySelector('#df-7c63fc3e-78d2-47e1-9383-5ef64369e585');\n",
              "          const dataTable =\n",
              "            await google.colab.kernel.invokeFunction('convertToInteractive',\n",
              "                                                     [key], {});\n",
              "          if (!dataTable) return;\n",
              "\n",
              "          const docLinkHtml = 'Like what you see? Visit the ' +\n",
              "            '<a target=\"_blank\" href=https://colab.research.google.com/notebooks/data_table.ipynb>data table notebook</a>'\n",
              "            + ' to learn more about interactive tables.';\n",
              "          element.innerHTML = '';\n",
              "          dataTable['output_type'] = 'display_data';\n",
              "          await google.colab.output.renderOutput(dataTable, element);\n",
              "          const docLink = document.createElement('div');\n",
              "          docLink.innerHTML = docLinkHtml;\n",
              "          element.appendChild(docLink);\n",
              "        }\n",
              "      </script>\n",
              "    </div>\n",
              "  </div>\n",
              "  "
            ]
          },
          "metadata": {}
        }
      ]
    },
    {
      "cell_type": "code",
      "metadata": {
        "id": "eNrnI0LA9H51"
      },
      "source": [
        "# remove the 'degree' character\n",
        "df.High = df.High.replace('\\°','',regex=True).astype(float)\n",
        "df.Low  = df.Low.replace('\\°','',regex=True).astype(float)"
      ],
      "execution_count": null,
      "outputs": []
    },
    {
      "cell_type": "code",
      "metadata": {
        "id": "OYhZw1VV9H54",
        "colab": {
          "base_uri": "https://localhost:8080/",
          "height": 457
        },
        "outputId": "fc9e8194-e503-4bad-c2cf-0ec503dc2dbd"
      },
      "source": [
        "display(df)"
      ],
      "execution_count": null,
      "outputs": [
        {
          "output_type": "display_data",
          "data": {
            "text/plain": [
              "        Date  High   Low                              Summary\n",
              "0   22-11-01  33.0  22.0          A clear sky and light winds\n",
              "1   22-11-02  34.0  22.0  Sunny intervals and a gentle breeze\n",
              "2   22-11-03  34.0  22.0            Sunny and a gentle breeze\n",
              "3   22-11-04  34.0  22.0            Sunny and a gentle breeze\n",
              "4   22-11-05  34.0  22.0            Sunny and a gentle breeze\n",
              "5   22-11-06  34.0  23.0  Sunny intervals and a gentle breeze\n",
              "6   22-11-07  33.0  23.0  Sunny intervals and a gentle breeze\n",
              "7   22-11-08  33.0  23.0  Sunny intervals and a gentle breeze\n",
              "8   22-11-09  34.0  24.0  Sunny intervals and a gentle breeze\n",
              "9   22-11-10  34.0  24.0  Sunny intervals and a gentle breeze\n",
              "10  22-11-11  33.0  23.0  Sunny intervals and a gentle breeze\n",
              "11  22-11-12  33.0  23.0  Sunny intervals and a gentle breeze\n",
              "12  22-11-13  33.0  23.0  Sunny intervals and a gentle breeze"
            ],
            "text/html": [
              "\n",
              "  <div id=\"df-65c5f34e-3023-454c-8d72-3db1eda61e0f\">\n",
              "    <div class=\"colab-df-container\">\n",
              "      <div>\n",
              "<style scoped>\n",
              "    .dataframe tbody tr th:only-of-type {\n",
              "        vertical-align: middle;\n",
              "    }\n",
              "\n",
              "    .dataframe tbody tr th {\n",
              "        vertical-align: top;\n",
              "    }\n",
              "\n",
              "    .dataframe thead th {\n",
              "        text-align: right;\n",
              "    }\n",
              "</style>\n",
              "<table border=\"1\" class=\"dataframe\">\n",
              "  <thead>\n",
              "    <tr style=\"text-align: right;\">\n",
              "      <th></th>\n",
              "      <th>Date</th>\n",
              "      <th>High</th>\n",
              "      <th>Low</th>\n",
              "      <th>Summary</th>\n",
              "    </tr>\n",
              "  </thead>\n",
              "  <tbody>\n",
              "    <tr>\n",
              "      <th>0</th>\n",
              "      <td>22-11-01</td>\n",
              "      <td>33.0</td>\n",
              "      <td>22.0</td>\n",
              "      <td>A clear sky and light winds</td>\n",
              "    </tr>\n",
              "    <tr>\n",
              "      <th>1</th>\n",
              "      <td>22-11-02</td>\n",
              "      <td>34.0</td>\n",
              "      <td>22.0</td>\n",
              "      <td>Sunny intervals and a gentle breeze</td>\n",
              "    </tr>\n",
              "    <tr>\n",
              "      <th>2</th>\n",
              "      <td>22-11-03</td>\n",
              "      <td>34.0</td>\n",
              "      <td>22.0</td>\n",
              "      <td>Sunny and a gentle breeze</td>\n",
              "    </tr>\n",
              "    <tr>\n",
              "      <th>3</th>\n",
              "      <td>22-11-04</td>\n",
              "      <td>34.0</td>\n",
              "      <td>22.0</td>\n",
              "      <td>Sunny and a gentle breeze</td>\n",
              "    </tr>\n",
              "    <tr>\n",
              "      <th>4</th>\n",
              "      <td>22-11-05</td>\n",
              "      <td>34.0</td>\n",
              "      <td>22.0</td>\n",
              "      <td>Sunny and a gentle breeze</td>\n",
              "    </tr>\n",
              "    <tr>\n",
              "      <th>5</th>\n",
              "      <td>22-11-06</td>\n",
              "      <td>34.0</td>\n",
              "      <td>23.0</td>\n",
              "      <td>Sunny intervals and a gentle breeze</td>\n",
              "    </tr>\n",
              "    <tr>\n",
              "      <th>6</th>\n",
              "      <td>22-11-07</td>\n",
              "      <td>33.0</td>\n",
              "      <td>23.0</td>\n",
              "      <td>Sunny intervals and a gentle breeze</td>\n",
              "    </tr>\n",
              "    <tr>\n",
              "      <th>7</th>\n",
              "      <td>22-11-08</td>\n",
              "      <td>33.0</td>\n",
              "      <td>23.0</td>\n",
              "      <td>Sunny intervals and a gentle breeze</td>\n",
              "    </tr>\n",
              "    <tr>\n",
              "      <th>8</th>\n",
              "      <td>22-11-09</td>\n",
              "      <td>34.0</td>\n",
              "      <td>24.0</td>\n",
              "      <td>Sunny intervals and a gentle breeze</td>\n",
              "    </tr>\n",
              "    <tr>\n",
              "      <th>9</th>\n",
              "      <td>22-11-10</td>\n",
              "      <td>34.0</td>\n",
              "      <td>24.0</td>\n",
              "      <td>Sunny intervals and a gentle breeze</td>\n",
              "    </tr>\n",
              "    <tr>\n",
              "      <th>10</th>\n",
              "      <td>22-11-11</td>\n",
              "      <td>33.0</td>\n",
              "      <td>23.0</td>\n",
              "      <td>Sunny intervals and a gentle breeze</td>\n",
              "    </tr>\n",
              "    <tr>\n",
              "      <th>11</th>\n",
              "      <td>22-11-12</td>\n",
              "      <td>33.0</td>\n",
              "      <td>23.0</td>\n",
              "      <td>Sunny intervals and a gentle breeze</td>\n",
              "    </tr>\n",
              "    <tr>\n",
              "      <th>12</th>\n",
              "      <td>22-11-13</td>\n",
              "      <td>33.0</td>\n",
              "      <td>23.0</td>\n",
              "      <td>Sunny intervals and a gentle breeze</td>\n",
              "    </tr>\n",
              "  </tbody>\n",
              "</table>\n",
              "</div>\n",
              "      <button class=\"colab-df-convert\" onclick=\"convertToInteractive('df-65c5f34e-3023-454c-8d72-3db1eda61e0f')\"\n",
              "              title=\"Convert this dataframe to an interactive table.\"\n",
              "              style=\"display:none;\">\n",
              "        \n",
              "  <svg xmlns=\"http://www.w3.org/2000/svg\" height=\"24px\"viewBox=\"0 0 24 24\"\n",
              "       width=\"24px\">\n",
              "    <path d=\"M0 0h24v24H0V0z\" fill=\"none\"/>\n",
              "    <path d=\"M18.56 5.44l.94 2.06.94-2.06 2.06-.94-2.06-.94-.94-2.06-.94 2.06-2.06.94zm-11 1L8.5 8.5l.94-2.06 2.06-.94-2.06-.94L8.5 2.5l-.94 2.06-2.06.94zm10 10l.94 2.06.94-2.06 2.06-.94-2.06-.94-.94-2.06-.94 2.06-2.06.94z\"/><path d=\"M17.41 7.96l-1.37-1.37c-.4-.4-.92-.59-1.43-.59-.52 0-1.04.2-1.43.59L10.3 9.45l-7.72 7.72c-.78.78-.78 2.05 0 2.83L4 21.41c.39.39.9.59 1.41.59.51 0 1.02-.2 1.41-.59l7.78-7.78 2.81-2.81c.8-.78.8-2.07 0-2.86zM5.41 20L4 18.59l7.72-7.72 1.47 1.35L5.41 20z\"/>\n",
              "  </svg>\n",
              "      </button>\n",
              "      \n",
              "  <style>\n",
              "    .colab-df-container {\n",
              "      display:flex;\n",
              "      flex-wrap:wrap;\n",
              "      gap: 12px;\n",
              "    }\n",
              "\n",
              "    .colab-df-convert {\n",
              "      background-color: #E8F0FE;\n",
              "      border: none;\n",
              "      border-radius: 50%;\n",
              "      cursor: pointer;\n",
              "      display: none;\n",
              "      fill: #1967D2;\n",
              "      height: 32px;\n",
              "      padding: 0 0 0 0;\n",
              "      width: 32px;\n",
              "    }\n",
              "\n",
              "    .colab-df-convert:hover {\n",
              "      background-color: #E2EBFA;\n",
              "      box-shadow: 0px 1px 2px rgba(60, 64, 67, 0.3), 0px 1px 3px 1px rgba(60, 64, 67, 0.15);\n",
              "      fill: #174EA6;\n",
              "    }\n",
              "\n",
              "    [theme=dark] .colab-df-convert {\n",
              "      background-color: #3B4455;\n",
              "      fill: #D2E3FC;\n",
              "    }\n",
              "\n",
              "    [theme=dark] .colab-df-convert:hover {\n",
              "      background-color: #434B5C;\n",
              "      box-shadow: 0px 1px 3px 1px rgba(0, 0, 0, 0.15);\n",
              "      filter: drop-shadow(0px 1px 2px rgba(0, 0, 0, 0.3));\n",
              "      fill: #FFFFFF;\n",
              "    }\n",
              "  </style>\n",
              "\n",
              "      <script>\n",
              "        const buttonEl =\n",
              "          document.querySelector('#df-65c5f34e-3023-454c-8d72-3db1eda61e0f button.colab-df-convert');\n",
              "        buttonEl.style.display =\n",
              "          google.colab.kernel.accessAllowed ? 'block' : 'none';\n",
              "\n",
              "        async function convertToInteractive(key) {\n",
              "          const element = document.querySelector('#df-65c5f34e-3023-454c-8d72-3db1eda61e0f');\n",
              "          const dataTable =\n",
              "            await google.colab.kernel.invokeFunction('convertToInteractive',\n",
              "                                                     [key], {});\n",
              "          if (!dataTable) return;\n",
              "\n",
              "          const docLinkHtml = 'Like what you see? Visit the ' +\n",
              "            '<a target=\"_blank\" href=https://colab.research.google.com/notebooks/data_table.ipynb>data table notebook</a>'\n",
              "            + ' to learn more about interactive tables.';\n",
              "          element.innerHTML = '';\n",
              "          dataTable['output_type'] = 'display_data';\n",
              "          await google.colab.output.renderOutput(dataTable, element);\n",
              "          const docLink = document.createElement('div');\n",
              "          docLink.innerHTML = docLinkHtml;\n",
              "          element.appendChild(docLink);\n",
              "        }\n",
              "      </script>\n",
              "    </div>\n",
              "  </div>\n",
              "  "
            ]
          },
          "metadata": {}
        }
      ]
    },
    {
      "cell_type": "markdown",
      "metadata": {
        "id": "2nqnCZI79H56"
      },
      "source": [
        "Extract the name of the city for which data is gathered."
      ]
    },
    {
      "cell_type": "code",
      "metadata": {
        "id": "HkRuIj3d9H56",
        "colab": {
          "base_uri": "https://localhost:8080/"
        },
        "outputId": "2f39ed27-52ea-4678-dd57-9bb19bad229e"
      },
      "source": [
        "#location = soup.find('div', attrs={'class':'wr-c-location'})\n",
        "location = soup.find('h1', attrs={'id':'wr-location-name-id'})\n",
        "location.text.split()"
      ],
      "execution_count": null,
      "outputs": [
        {
          "output_type": "execute_result",
          "data": {
            "text/plain": [
              "['Mumbai', '-', 'Weather', 'warnings', 'issued']"
            ]
          },
          "metadata": {},
          "execution_count": 24
        }
      ]
    },
    {
      "cell_type": "code",
      "metadata": {
        "id": "WLH8Rj8z9H56"
      },
      "source": [
        "# create a recording\n",
        "filename_csv = location.text.split()[0]+'.csv'\n",
        "df.to_csv(filename_csv, index=None)"
      ],
      "execution_count": null,
      "outputs": []
    },
    {
      "cell_type": "code",
      "metadata": {
        "id": "GgZEgrlh9H6B"
      },
      "source": [
        "filename_xlsx = location.text.split()[0]+'.xlsx'\n",
        "df.to_excel(filename_xlsx)"
      ],
      "execution_count": null,
      "outputs": []
    },
    {
      "cell_type": "code",
      "metadata": {
        "id": "lXrsKdXg8mJT"
      },
      "source": [],
      "execution_count": null,
      "outputs": []
    }
  ]
}
